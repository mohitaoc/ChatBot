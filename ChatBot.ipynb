{
 "cells": [
  {
   "cell_type": "code",
   "execution_count": 1,
   "id": "49502e3f",
   "metadata": {},
   "outputs": [],
   "source": [
    "import numpy as np\n",
    "import nltk\n",
    "import string\n",
    "import random"
   ]
  },
  {
   "cell_type": "code",
   "execution_count": 2,
   "id": "811f10d3",
   "metadata": {},
   "outputs": [],
   "source": [
    "import pandas as pd\n",
    "import nltk\n",
    "from nltk.corpus import stopwords\n",
    "import re\n",
    "import os\n",
    "import codecs\n",
    "from sklearn import feature_extraction\n",
    "from nltk.stem.snowball import SnowballStemmer\n",
    "from sklearn.feature_extraction.text import TfidfVectorizer"
   ]
  },
  {
   "cell_type": "code",
   "execution_count": 3,
   "id": "f3383e6e",
   "metadata": {},
   "outputs": [
    {
     "name": "stderr",
     "output_type": "stream",
     "text": [
      "[nltk_data] Downloading package punkt to C:\\Users\\Mohini\n",
      "[nltk_data]     Tyagi\\AppData\\Roaming\\nltk_data...\n",
      "[nltk_data]   Package punkt is already up-to-date!\n",
      "[nltk_data] Downloading package wordnet to C:\\Users\\Mohini\n",
      "[nltk_data]     Tyagi\\AppData\\Roaming\\nltk_data...\n",
      "[nltk_data]   Package wordnet is already up-to-date!\n"
     ]
    }
   ],
   "source": [
    "f=open('chatbot.txt','r',errors = 'ignore')\n",
    "raw_doc=f.read()\n",
    "raw_doc=raw_doc.lower() #Converts text to lowercase\n",
    "nltk.download('punkt') #Using the Punkt tokenizer\n",
    "nltk.download('wordnet') #Using the WordNet dictionary\n",
    "sent_tokens = nltk.sent_tokenize(raw_doc) #Converts doc to list of sentences\n",
    "word_tokens = nltk.word_tokenize(raw_doc) #Converts doc to list of words\n"
   ]
  },
  {
   "cell_type": "code",
   "execution_count": 4,
   "id": "72be5bf7",
   "metadata": {},
   "outputs": [
    {
     "data": {
      "text/plain": [
       "['hello\\n hi.', \"what's up\\n nothing.\"]"
      ]
     },
     "execution_count": 4,
     "metadata": {},
     "output_type": "execute_result"
    }
   ],
   "source": [
    "sent_tokens[:2]\n"
   ]
  },
  {
   "cell_type": "code",
   "execution_count": 5,
   "id": "3271bc43",
   "metadata": {},
   "outputs": [
    {
     "data": {
      "text/plain": [
       "['hello', 'hi']"
      ]
     },
     "execution_count": 5,
     "metadata": {},
     "output_type": "execute_result"
    }
   ],
   "source": [
    "word_tokens[:2]"
   ]
  },
  {
   "cell_type": "code",
   "execution_count": 6,
   "id": "e09a6f88",
   "metadata": {},
   "outputs": [],
   "source": [
    "lemmer = nltk.stem.WordNetLemmatizer()\n",
    "#WordNet is a semantically-oriented dictionary of English included in NLTK.\n",
    "def LemTokens(tokens):\n",
    "    return [lemmer.lemmatize(token) for token in tokens]\n",
    "remove_punct_dict = dict((ord(punct), None) for punct in string.punctuation)\n",
    "def LemNormalize(text):\n",
    "    return LemTokens(nltk.word_tokenize(text.lower().translate(remove_punct_dict)))"
   ]
  },
  {
   "cell_type": "code",
   "execution_count": 7,
   "id": "5450c049",
   "metadata": {},
   "outputs": [],
   "source": [
    "GREET_INPUTS =  [\"Hello\",\"What's up\",\"How are you\",\"Steps regarding registration?\",\" event?\",\"Rule For girl in campus?\",\"Timing of Canteen?\",\"Available things in canteen?\",\"Number of\",\"Number of Lab in Mechenical Engineering.\",\"Number of Lab in civil Engineering.\",\" What available to play.\",\"How many Techers in information Technology Department?\",\"How many Techers in Civil Engineering Department?\",\"How many Techers in Mechanice Engineering Department?\",\"How many Department are there in REC?\",\"When does the Lab Open?\",\"When does the Library Open?\",\"How many Book issued by one Student?\",\"How many non-teaching staff of informaton tecnology?\",\"Who is the Lab instructor?\",\"Who is the lab technician?\",\"Who is the lab assistant?\",\"who is the HOD  of the information technology?\",\" DR. Tause noeef Ahmad  mobil?\",\"Class\",\" Ground\",\"Mess time table\",\" who is the Dean of the REC\",\"How many Guest Faculty in Information Technology\",\"Vision of the information technology?\",\"Dr. Tauseef ahmad email id? \",\"Mr. ashok kumar yadav email id?\",\"Mr. ashok kumar yadav mobile number?\",\"Who is the director of the REC Azamgarh?\",\" Mr. Sanjay Kumar email id?\",\"Mr. Sanjay Kumar mobile no.?\",\"Non teaching staff in information technology?\",\" Who is the HOD of Civil Department?\",\" What is the Email id of the HOD?\",\"Mr. Anoop Narain Singh Mobile Number?\",\"Mr. Vipin Mahadeven email id?\",\" Mr. Vipin Mahadeven Mobile Number?\",\"Mr. Vishal Kumar Email id?\",\"Mr. Vishal Kumar Mobile Number?\",\"Mr. Asif Ansari Email id?\",\".Mr. Amit Kumar Mobile Number?\",\"Mr. Amit Kumar Email id?\",\"Mr. Anish Kumar Mobile Number?\",\"Mr. Anish Kumar Email id?\",\"Mr. Chaitanya Nidhi Email id?\",\"Mr. Chaitanya Nidhi Mobile Number?\",\"Mr. Saurabh Mishra Mobile Number?\",\"Mr. Saurabh Mishra Email id?\",\" Akansha Jaiswal Mobile number?\",\" Akansha Jaiswal Email id?\",\"Who is the HOD of Mechnical Department?\",\"Mr. Vibhooti Narayan Mishra Email id?\",\" Mr. Vibhooti Narayan Mishra Mobile?\",\" Mr. Vijay Kumar Email id?\",\"Mr. Vijay Kumar Mobile Number?\",\" Mr. Pankaj Yadav Mobile Number?\",\"Mr. Pankaj Yadav Email id?\",\"Mr. Brihaspati Singh Email id?\",\" Mr. Brihaspati Singh Mobile Number? \"]\n",
    "GREET_RESPONSES = [\"hi\",\" No thing\",\"I am good \",\"1: Fee pay Accountant office 2: HOD 3: Worden4: DSW 5: Dean\",\" DD/MM/YY  Virraj DD/MM/YY  Unnati DD/MM/YY  Pixel DD/MM/YY  Avishkar\",\" On Holiday Lab in Information Technology. Girl are not allowed in  Campus. 2:  On working day after 5pm girls not allowed in Campus.\",\"At 9:30am to 5:00pm\",\"Stationry 1.1 Book. 1.2 Copy.  1.3 Pen. Snacks  2.1 Maggie. 2.2 Egg.  2.3 Colldrink. 2.4 Namkin\",\"Software laboratory Database laboratory  Digital Lab. Computer Lab.\",\"Flaid Mechanic Thermo Metrology CAD\",\"Envirinment lab Geotechnical lab Transportation lab Concrete la   Fluid mechanics lab\",\"Carromboard------2  Batminton--------4  Bat--------------3    Ball-------------4   Table Tennis------2\",\"9\",\"8\",\"11\",\" (3)  Information Technology. Civil Engineering    Mechanics Engineering.\",\"At 9:30\",\"At 9:30\",\"4\",\"there are 3 non- teaching staffs.\",\"Sanjeev Kumar.\",\"Himanshu singh.\",\"Ajai Kumar\",\"Dr. Tauseef Ahmad\",\"80777620353\",\"Open at 9:30am and close at 5pm.\",\"Behind the college and left side of the college.\",\" Monday aaaaaaa to Saturday bbbbbbb.\",\"Mr. Ashok Kumar Yadav.\",\"Mr. Mohd Amir  Miss Kumkum Dube     Miss Amrita Ra    Miss Sonam Ary   Mr. Pushkar Nath Pandey.\",\"The department of information technology promise to maturate the knowledge of students ,making them  technically skilled , ethically responsible and adapt to the rapid advancements in the IT industry\",\"tauseefahmad@zhcet.ac.in\",\"ashokyadav88.jnu@gmail.com\",\" 9560219603\",\"Mr. B. K. tripathi\",\"sanjayknit08@gmail.com\",\"9795143606\",\"Ajai kumar Himanshu singh   snajeev kumar singh\",\"Mr. Anoop Narain Singh\",\"anoopnarain1407@gmail.com\",\"8745883666\",\"mahadeven17091992@gmail.com\",\" 9451579678\",\"vishalnita2010@gmail.com\",\" 8825287707\",\" asifiitd1@gmail.com\",\" 8858116889\",\". amitkumar@gecazamgarh.ac.in\",\"9431289414\",\"anishce0009@gmail.com\",\"chaitanya.nidhi@gmail.com\",\" 9036065623\",\"8318103676\",\"saurabhcivil23@gmail.com\",\"9695917780\",\"richaansi44@gmail.com\",\"Mr.Vibhooti Narayan Mishra\",\"\tvibhooti1810@gmail.com\",\"9755190134\",\"vijayakgarg@gmail.com\",\"9557310767\",\" 7388676672\",\" pankaj1991.mmm@gmail.com\",\" bspt4565@gmail.com\",\"7800075876\"]"
   ]
  },
  {
   "cell_type": "code",
   "execution_count": 8,
   "id": "327161ff",
   "metadata": {},
   "outputs": [],
   "source": [
    "def greet(sentence):\n",
    "    for word in sentence.split():\n",
    "        if word.lower() in GREET_INPUTS:\n",
    "            return (GREET_RESPONSES)"
   ]
  },
  {
   "cell_type": "code",
   "execution_count": 9,
   "id": "6c10cd01",
   "metadata": {},
   "outputs": [],
   "source": [
    "from sklearn.feature_extraction.text import TfidfVectorizer\n",
    "from sklearn.metrics.pairwise import cosine_similarity\n",
    "def response(user_response):\n",
    "    robo1_response=''\n",
    "    TfidfVec = TfidfVectorizer(tokenizer=LemNormalize, stop_words='english')\n",
    "    tfidf = TfidfVec.fit_transform(sent_tokens)\n",
    "    vals = cosine_similarity(tfidf[-1], tfidf)\n",
    "    idx=vals.argsort()[0][-2]\n",
    "    flat = vals.flatten()\n",
    "    flat.sort()\n",
    "    req_tfidf = flat[-2]\n",
    "    if(req_tfidf==0):\n",
    "        robo1_response=robo1_response+\"I am sorry! I don't understand you\"\n",
    "        return robo1_response\n",
    "    else:\n",
    "        robo1_response = robo1_response+sent_tokens[idx]\n",
    "        return robo1_response"
   ]
  },
  {
   "cell_type": "code",
   "execution_count": null,
   "id": "d67e936f",
   "metadata": {},
   "outputs": [
    {
     "name": "stdout",
     "output_type": "stream",
     "text": [
      "BOT: My name is Robot. Let's have a conversation! Also, if you want to exit any time, just type Bye!\n",
      "Mr. Vijay Kumar Email id?\n",
      "BOT: "
     ]
    },
    {
     "name": "stderr",
     "output_type": "stream",
     "text": [
      "C:\\Users\\Mohini Tyagi\\anaconda3\\lib\\site-packages\\sklearn\\feature_extraction\\text.py:388: UserWarning: Your stop_words may be inconsistent with your preprocessing. Tokenizing the stop words generated tokens ['ha', 'le', 'u', 'wa'] not in stop_words.\n",
      "  warnings.warn('Your stop_words may be inconsistent with '\n"
     ]
    },
    {
     "name": "stdout",
     "output_type": "stream",
     "text": [
      "9755190134\n",
      "\n",
      " mr. vijay kumar email id?\n",
      "vijayakgarg@gmail.com\n",
      "BOT: vijayakgarg@gmail.com\n",
      "\n",
      " mr. vijay kumar mobile number?\n",
      "tyagimohini7@gmail.com\n",
      "BOT: I am sorry! I don't understand you\n",
      "8698543245678\n",
      "BOT: I am sorry! I don't understand you\n",
      "9755190134\n",
      "BOT: 9755190134\n",
      "\n",
      " mr. vijay kumar email id?\n",
      "vijayakgarg@gmail.com\n",
      "BOT: vijayakgarg@gmail.com\n",
      "\n",
      " mr. vijay kumar mobile number?\n"
     ]
    }
   ],
   "source": [
    "flag=True\n",
    "print(\"BOT: My name is Robot. Let's have a conversation! Also, if you want to exit any time, just type Bye!\")\n",
    "while(flag==True):\n",
    "      user_response = input()\n",
    "      user_response=user_response.lower()\n",
    "      if(user_response!='bye'):\n",
    "            if(user_response=='thanks' or user_response=='thank you' ):\n",
    "                flag=False\n",
    "                print(\"BOT: You are welcome..\")\n",
    "            else:\n",
    "                if(greet(user_response)!=None):\n",
    "                    print(\"BOT: \"+greet(user_response))\n",
    "                else:\n",
    "                    sent_tokens.append(user_response)\n",
    "                    word_tokens=word_tokens+nltk.word_tokenize(user_response)\n",
    "                    final_words=list(set(word_tokens))\n",
    "                    print(\"BOT: \",end=\"\")\n",
    "                    print(response(user_response))\n",
    "                    sent_tokens.remove(user_response)\n"
   ]
  },
  {
   "cell_type": "code",
   "execution_count": null,
   "id": "219c5d86",
   "metadata": {},
   "outputs": [],
   "source": []
  },
  {
   "cell_type": "code",
   "execution_count": null,
   "id": "6c335d41",
   "metadata": {},
   "outputs": [],
   "source": []
  },
  {
   "cell_type": "code",
   "execution_count": null,
   "id": "a56a205d",
   "metadata": {},
   "outputs": [],
   "source": []
  }
 ],
 "metadata": {
  "kernelspec": {
   "display_name": "Python 3 (ipykernel)",
   "language": "python",
   "name": "python3"
  },
  "language_info": {
   "codemirror_mode": {
    "name": "ipython",
    "version": 3
   },
   "file_extension": ".py",
   "mimetype": "text/x-python",
   "name": "python",
   "nbconvert_exporter": "python",
   "pygments_lexer": "ipython3",
   "version": "3.9.7"
  }
 },
 "nbformat": 4,
 "nbformat_minor": 5
}
